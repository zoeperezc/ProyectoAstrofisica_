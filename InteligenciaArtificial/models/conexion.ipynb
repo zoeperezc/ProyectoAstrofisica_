{
 "cells": [
  {
   "cell_type": "code",
   "execution_count": null,
   "metadata": {},
   "outputs": [],
   "source": [
    "from flask import Flask, jsonify, request\n",
    "from sklearn.externals import joblib\n",
    "import sklearn"
   ]
  },
  {
   "cell_type": "code",
   "execution_count": null,
   "metadata": {},
   "outputs": [],
   "source": [
    "app = Flask(__name__)\n",
    "\n",
    "@app.route(\"/\")\n",
    "def home():\n",
    "    return \"página funciona bien\"\n",
    "\n",
    "@app.route(\"cosa de palo\", methods=['POST'])\n",
    "def predecir():\n",
    "    json=request.get_json(force=True)\n",
    "    img=json['Imagen']\n",
    "    clf=joblib.load('Stargazing.h5')\n",
    "    prediccion=clf.predict(img)\n",
    "    return 'The uploaded image corresponds to the class {0}'.format{prediccion}\n",
    "\n",
    "if __name__ == '__main__':\n",
    "    app.run()"
   ]
  },
  {
   "cell_type": "code",
   "execution_count": null,
   "metadata": {},
   "outputs": [],
   "source": []
  }
 ],
 "metadata": {
  "language_info": {
   "name": "python"
  }
 },
 "nbformat": 4,
 "nbformat_minor": 2
}
