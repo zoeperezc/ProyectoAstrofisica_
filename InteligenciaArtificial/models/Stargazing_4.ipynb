{
  "cells": [
    {
      "cell_type": "code",
      "execution_count": 1,
      "metadata": {
        "colab": {
          "base_uri": "https://localhost:8080/"
        },
        "id": "DzrmufRa8iF5",
        "outputId": "1de3fbcb-2171-48ed-a3a5-b7e1e02cb186"
      },
      "outputs": [
        {
          "output_type": "stream",
          "name": "stdout",
          "text": [
            "Requirement already satisfied: tensorflow in /usr/local/lib/python3.10/dist-packages (2.14.0)\n",
            "Requirement already satisfied: opencv-python in /usr/local/lib/python3.10/dist-packages (4.8.0.76)\n",
            "Requirement already satisfied: matplotlib in /usr/local/lib/python3.10/dist-packages (3.7.1)\n",
            "Requirement already satisfied: absl-py>=1.0.0 in /usr/local/lib/python3.10/dist-packages (from tensorflow) (1.4.0)\n",
            "Requirement already satisfied: astunparse>=1.6.0 in /usr/local/lib/python3.10/dist-packages (from tensorflow) (1.6.3)\n",
            "Requirement already satisfied: flatbuffers>=23.5.26 in /usr/local/lib/python3.10/dist-packages (from tensorflow) (23.5.26)\n",
            "Requirement already satisfied: gast!=0.5.0,!=0.5.1,!=0.5.2,>=0.2.1 in /usr/local/lib/python3.10/dist-packages (from tensorflow) (0.5.4)\n",
            "Requirement already satisfied: google-pasta>=0.1.1 in /usr/local/lib/python3.10/dist-packages (from tensorflow) (0.2.0)\n",
            "Requirement already satisfied: h5py>=2.9.0 in /usr/local/lib/python3.10/dist-packages (from tensorflow) (3.9.0)\n",
            "Requirement already satisfied: libclang>=13.0.0 in /usr/local/lib/python3.10/dist-packages (from tensorflow) (16.0.6)\n",
            "Requirement already satisfied: ml-dtypes==0.2.0 in /usr/local/lib/python3.10/dist-packages (from tensorflow) (0.2.0)\n",
            "Requirement already satisfied: numpy>=1.23.5 in /usr/local/lib/python3.10/dist-packages (from tensorflow) (1.23.5)\n",
            "Requirement already satisfied: opt-einsum>=2.3.2 in /usr/local/lib/python3.10/dist-packages (from tensorflow) (3.3.0)\n",
            "Requirement already satisfied: packaging in /usr/local/lib/python3.10/dist-packages (from tensorflow) (23.2)\n",
            "Requirement already satisfied: protobuf!=4.21.0,!=4.21.1,!=4.21.2,!=4.21.3,!=4.21.4,!=4.21.5,<5.0.0dev,>=3.20.3 in /usr/local/lib/python3.10/dist-packages (from tensorflow) (3.20.3)\n",
            "Requirement already satisfied: setuptools in /usr/local/lib/python3.10/dist-packages (from tensorflow) (67.7.2)\n",
            "Requirement already satisfied: six>=1.12.0 in /usr/local/lib/python3.10/dist-packages (from tensorflow) (1.16.0)\n",
            "Requirement already satisfied: termcolor>=1.1.0 in /usr/local/lib/python3.10/dist-packages (from tensorflow) (2.3.0)\n",
            "Requirement already satisfied: typing-extensions>=3.6.6 in /usr/local/lib/python3.10/dist-packages (from tensorflow) (4.5.0)\n",
            "Requirement already satisfied: wrapt<1.15,>=1.11.0 in /usr/local/lib/python3.10/dist-packages (from tensorflow) (1.14.1)\n",
            "Requirement already satisfied: tensorflow-io-gcs-filesystem>=0.23.1 in /usr/local/lib/python3.10/dist-packages (from tensorflow) (0.34.0)\n",
            "Requirement already satisfied: grpcio<2.0,>=1.24.3 in /usr/local/lib/python3.10/dist-packages (from tensorflow) (1.59.2)\n",
            "Requirement already satisfied: tensorboard<2.15,>=2.14 in /usr/local/lib/python3.10/dist-packages (from tensorflow) (2.14.1)\n",
            "Requirement already satisfied: tensorflow-estimator<2.15,>=2.14.0 in /usr/local/lib/python3.10/dist-packages (from tensorflow) (2.14.0)\n",
            "Requirement already satisfied: keras<2.15,>=2.14.0 in /usr/local/lib/python3.10/dist-packages (from tensorflow) (2.14.0)\n",
            "Requirement already satisfied: contourpy>=1.0.1 in /usr/local/lib/python3.10/dist-packages (from matplotlib) (1.2.0)\n",
            "Requirement already satisfied: cycler>=0.10 in /usr/local/lib/python3.10/dist-packages (from matplotlib) (0.12.1)\n",
            "Requirement already satisfied: fonttools>=4.22.0 in /usr/local/lib/python3.10/dist-packages (from matplotlib) (4.44.0)\n",
            "Requirement already satisfied: kiwisolver>=1.0.1 in /usr/local/lib/python3.10/dist-packages (from matplotlib) (1.4.5)\n",
            "Requirement already satisfied: pillow>=6.2.0 in /usr/local/lib/python3.10/dist-packages (from matplotlib) (9.4.0)\n",
            "Requirement already satisfied: pyparsing>=2.3.1 in /usr/local/lib/python3.10/dist-packages (from matplotlib) (3.1.1)\n",
            "Requirement already satisfied: python-dateutil>=2.7 in /usr/local/lib/python3.10/dist-packages (from matplotlib) (2.8.2)\n",
            "Requirement already satisfied: wheel<1.0,>=0.23.0 in /usr/local/lib/python3.10/dist-packages (from astunparse>=1.6.0->tensorflow) (0.41.3)\n",
            "Requirement already satisfied: google-auth<3,>=1.6.3 in /usr/local/lib/python3.10/dist-packages (from tensorboard<2.15,>=2.14->tensorflow) (2.17.3)\n",
            "Requirement already satisfied: google-auth-oauthlib<1.1,>=0.5 in /usr/local/lib/python3.10/dist-packages (from tensorboard<2.15,>=2.14->tensorflow) (1.0.0)\n",
            "Requirement already satisfied: markdown>=2.6.8 in /usr/local/lib/python3.10/dist-packages (from tensorboard<2.15,>=2.14->tensorflow) (3.5.1)\n",
            "Requirement already satisfied: requests<3,>=2.21.0 in /usr/local/lib/python3.10/dist-packages (from tensorboard<2.15,>=2.14->tensorflow) (2.31.0)\n",
            "Requirement already satisfied: tensorboard-data-server<0.8.0,>=0.7.0 in /usr/local/lib/python3.10/dist-packages (from tensorboard<2.15,>=2.14->tensorflow) (0.7.2)\n",
            "Requirement already satisfied: werkzeug>=1.0.1 in /usr/local/lib/python3.10/dist-packages (from tensorboard<2.15,>=2.14->tensorflow) (3.0.1)\n",
            "Requirement already satisfied: cachetools<6.0,>=2.0.0 in /usr/local/lib/python3.10/dist-packages (from google-auth<3,>=1.6.3->tensorboard<2.15,>=2.14->tensorflow) (5.3.2)\n",
            "Requirement already satisfied: pyasn1-modules>=0.2.1 in /usr/local/lib/python3.10/dist-packages (from google-auth<3,>=1.6.3->tensorboard<2.15,>=2.14->tensorflow) (0.3.0)\n",
            "Requirement already satisfied: rsa<5,>=3.1.4 in /usr/local/lib/python3.10/dist-packages (from google-auth<3,>=1.6.3->tensorboard<2.15,>=2.14->tensorflow) (4.9)\n",
            "Requirement already satisfied: requests-oauthlib>=0.7.0 in /usr/local/lib/python3.10/dist-packages (from google-auth-oauthlib<1.1,>=0.5->tensorboard<2.15,>=2.14->tensorflow) (1.3.1)\n",
            "Requirement already satisfied: charset-normalizer<4,>=2 in /usr/local/lib/python3.10/dist-packages (from requests<3,>=2.21.0->tensorboard<2.15,>=2.14->tensorflow) (3.3.2)\n",
            "Requirement already satisfied: idna<4,>=2.5 in /usr/local/lib/python3.10/dist-packages (from requests<3,>=2.21.0->tensorboard<2.15,>=2.14->tensorflow) (3.4)\n",
            "Requirement already satisfied: urllib3<3,>=1.21.1 in /usr/local/lib/python3.10/dist-packages (from requests<3,>=2.21.0->tensorboard<2.15,>=2.14->tensorflow) (2.0.7)\n",
            "Requirement already satisfied: certifi>=2017.4.17 in /usr/local/lib/python3.10/dist-packages (from requests<3,>=2.21.0->tensorboard<2.15,>=2.14->tensorflow) (2023.7.22)\n",
            "Requirement already satisfied: MarkupSafe>=2.1.1 in /usr/local/lib/python3.10/dist-packages (from werkzeug>=1.0.1->tensorboard<2.15,>=2.14->tensorflow) (2.1.3)\n",
            "Requirement already satisfied: pyasn1<0.6.0,>=0.4.6 in /usr/local/lib/python3.10/dist-packages (from pyasn1-modules>=0.2.1->google-auth<3,>=1.6.3->tensorboard<2.15,>=2.14->tensorflow) (0.5.0)\n",
            "Requirement already satisfied: oauthlib>=3.0.0 in /usr/local/lib/python3.10/dist-packages (from requests-oauthlib>=0.7.0->google-auth-oauthlib<1.1,>=0.5->tensorboard<2.15,>=2.14->tensorflow) (3.2.2)\n"
          ]
        }
      ],
      "source": [
        "!pip install tensorflow opencv-python matplotlib"
      ]
    },
    {
      "cell_type": "code",
      "execution_count": 2,
      "metadata": {
        "id": "jrGg5hxP-LEi"
      },
      "outputs": [],
      "source": [
        "import tensorflow as tf\n",
        "from matplotlib import pyplot as plt\n",
        "import os\n",
        "import random\n",
        "import cv2\n",
        "import matplotlib.pyplot as plt\n",
        "import seaborn as sns\n",
        "import numpy as np\n",
        "import pandas as pd"
      ]
    },
    {
      "cell_type": "code",
      "execution_count": null,
      "metadata": {
        "id": "BFwvMrE1Ctnn"
      },
      "outputs": [],
      "source": [
        "# from google.colab import drive\n",
        "# drive.mount('/content/drive')"
      ]
    },
    {
      "cell_type": "code",
      "execution_count": null,
      "metadata": {
        "id": "qk7zQ4H6C8Tu"
      },
      "outputs": [],
      "source": [
        "# data download and observation\n",
        "# dataset = '/content/drive/MyDrive/dataset'\n",
        "# os.chdir(dataset)\n",
        "# dataset\n",
        "# os.listdir('/content/drive/MyDrive/dataset')\n",
        "# data_dir_list = os.listdir('/content/drive/MyDrive/dataset')\n",
        "# print(data_dir_list)\n",
        "# OG_dataset_dir = 'dataset'"
      ]
    },
    {
      "cell_type": "code",
      "execution_count": 3,
      "metadata": {
        "id": "esn45U2O-O93"
      },
      "outputs": [],
      "source": [
        "import warnings"
      ]
    },
    {
      "cell_type": "code",
      "execution_count": 4,
      "metadata": {
        "id": "dM8ON915-RCF"
      },
      "outputs": [],
      "source": [
        "warnings.filterwarnings('ignore')"
      ]
    },
    {
      "cell_type": "code",
      "source": [
        "# Lista de clases\n",
        "classes = ['stars', 'planets', 'nebulas', 'blackholes', 'meteors-asteroids', 'galaxies']"
      ],
      "metadata": {
        "id": "1BmG1LG65f7b"
      },
      "execution_count": 57,
      "outputs": []
    },
    {
      "cell_type": "code",
      "source": [
        "# Directorio principal\n",
        "OG_dataset = '/content/dataset/'\n",
        "os.makedirs(OG_dataset, exist_ok=True)"
      ],
      "metadata": {
        "id": "rCcdx35h5jDN"
      },
      "execution_count": null,
      "outputs": []
    },
    {
      "cell_type": "code",
      "source": [
        "# Crear carpetas para cada clase\n",
        "for class_name in classes:\n",
        "    class_folder = os.path.join(OG_dataset, class_name)\n",
        "    os.makedirs(class_folder, exist_ok=True)"
      ],
      "metadata": {
        "id": "WreytKdH5jl3"
      },
      "execution_count": null,
      "outputs": []
    },
    {
      "cell_type": "code",
      "source": [
        "# Listar contenido del directorio principal\n",
        "data_dir_list = os.listdir(OG_dataset)\n",
        "print(data_dir_list)"
      ],
      "metadata": {
        "id": "Aj8z3PH45mWW"
      },
      "execution_count": null,
      "outputs": []
    },
    {
      "cell_type": "code",
      "execution_count": 5,
      "metadata": {
        "id": "QsFRiqP3D9kx"
      },
      "outputs": [],
      "source": [
        "# OG_dataset = '/content/dataset/'\n",
        "# os.mkdir(OG_dataset)\n",
        "\n",
        "# stars_folder = '/content/dataset/stars/'\n",
        "# os.mkdir(stars_folder)\n",
        "\n",
        "# planets_folder = '/content/dataset/planets/'\n",
        "# os.mkdir(planets_folder)\n",
        "\n",
        "# nebulas_folder = '/content/dataset/nebulas/'\n",
        "# os.mkdir(nebulas_folder)\n",
        "\n",
        "# blackholes_folder = '/content/dataset/blackholes/'\n",
        "# os.mkdir(blackholes_folder)\n",
        "\n",
        "# meteors_asteroids_folder = '/content/dataset/meteors-asteroids/'\n",
        "# os.mkdir(meteors_asteroids_folder)\n",
        "\n",
        "# galaxies_folder = '/content/dataset/galaxies/'\n",
        "# os.mkdir(galaxies_folder)\n",
        "\n",
        "# testing_data_folder = '/content/testing-data/'\n",
        "# os.mkdir(testing_data_folder)\n",
        "\n",
        "# test_folder = '/content/testing-data/test'\n",
        "# os.mkdir(test_folder)"
      ]
    },
    {
      "cell_type": "code",
      "execution_count": 17,
      "metadata": {
        "colab": {
          "base_uri": "https://localhost:8080/"
        },
        "id": "s_v62dex-M8B",
        "outputId": "271b37dc-6fdd-4efc-e116-3e6322a1bcc9"
      },
      "outputs": [
        {
          "output_type": "stream",
          "name": "stdout",
          "text": [
            "['meteors-asteroids', 'stars', 'blackholes', '.ipynb_checkpoints', 'planets', 'galaxies', 'nebulas']\n"
          ]
        }
      ],
      "source": [
        "data_dir_list = os.listdir('/content/dataset')\n",
        "print(data_dir_list)"
      ]
    },
    {
      "cell_type": "code",
      "source": [
        "print(data_dir_list[3])"
      ],
      "metadata": {
        "colab": {
          "base_uri": "https://localhost:8080/"
        },
        "id": "XWxN07I12mdC",
        "outputId": "c1011bed-ef06-4f0f-b3f4-f522da6f2db7"
      },
      "execution_count": 16,
      "outputs": [
        {
          "output_type": "stream",
          "name": "stdout",
          "text": [
            ".ipynb_checkpoints\n"
          ]
        }
      ]
    },
    {
      "cell_type": "code",
      "source": [
        "data_dir = ('/content/dataset')"
      ],
      "metadata": {
        "id": "FXsAs3WCUpou"
      },
      "execution_count": 18,
      "outputs": []
    },
    {
      "cell_type": "code",
      "execution_count": 19,
      "metadata": {
        "id": "9m_DisdA-U4D"
      },
      "outputs": [],
      "source": [
        "path, dirs, files = next(os.walk(\"/content/dataset\"))\n",
        "file_count = len(files)"
      ]
    },
    {
      "cell_type": "code",
      "execution_count": 21,
      "metadata": {
        "id": "d_qqUnSR-WLo"
      },
      "outputs": [],
      "source": [
        "# Make new base directory\n",
        "original_dataset_dir = '/content/dataset'\n",
        "base_dir = '/content/celestial-bodies-data/'\n",
        "os.mkdir(base_dir)"
      ]
    },
    {
      "cell_type": "code",
      "source": [
        "image_exts = ['jpeg', 'jpg', 'bmp', 'png', 'gif']"
      ],
      "metadata": {
        "id": "4pQWSRGVMewF"
      },
      "execution_count": 22,
      "outputs": []
    },
    {
      "cell_type": "code",
      "source": [
        "import os\n",
        "import imghdr\n",
        "import cv2"
      ],
      "metadata": {
        "id": "n16BRQn8wlSB"
      },
      "execution_count": 23,
      "outputs": []
    },
    {
      "cell_type": "code",
      "source": [
        "for image_class in os.listdir(data_dir):\n",
        "    for image in os.listdir(os.path.join(data_dir, image_class)):\n",
        "        image_path = os.path.join(data_dir, image_class, image)\n",
        "        try :\n",
        "            img = cv2.imread(image_path)\n",
        "            tip = imghdr.what(image_path)\n",
        "            if tip not in image_exts :\n",
        "                print('Image not in ext list {}' .format(image_path))\n",
        "                os.remove(image_path)\n",
        "        except Exception as e :\n",
        "            print('Issue with image {}' .format(image_path))"
      ],
      "metadata": {
        "id": "JM0dYxeOT655",
        "colab": {
          "base_uri": "https://localhost:8080/"
        },
        "outputId": "aa8fde46-5609-4024-c5eb-5f6e9b1bcbde"
      },
      "execution_count": 24,
      "outputs": [
        {
          "output_type": "stream",
          "name": "stdout",
          "text": [
            "Image not in ext list /content/dataset/meteors-asteroids/skynews-asteroid-bennu-image_4697184.jpg\n",
            "Image not in ext list /content/dataset/meteors-asteroids/.DS_Store\n",
            "Image not in ext list /content/dataset/meteors-asteroids/13.8-Death-From-the-Skies_Lead.jpg\n",
            "Image not in ext list /content/dataset/stars/.DS_Store\n",
            "Image not in ext list /content/dataset/stars/NASA-s-Hubble-telescope-shares-stunning-images-of-a-star-s-explosion_186a2db032b_large.jpg\n",
            "Image not in ext list /content/dataset/blackholes/nasa-s-swift-learns-a-new-trick-spots-a-snacking-black-hole-s.jpg\n",
            "Image not in ext list /content/dataset/blackholes/zt2idrnyftshhn1q_1651580679.jpeg\n",
            "Image not in ext list /content/dataset/blackholes/Black-Hole-Destroys-a-Star-Illustration-scaled.jpg\n",
            "Image not in ext list /content/dataset/blackholes/.DS_Store\n",
            "Image not in ext list /content/dataset/blackholes/thequint2F2016-042F793fe18d-0be1-40b9-9ced-1b21176ef7432FNasa-Hero.jpg\n",
            "Image not in ext list /content/dataset/blackholes/black_hole_xray_radio_label_525.jpg\n",
            "Image not in ext list /content/dataset/blackholes/NASA-animation-sizes-up-the-biggest-black-holes.jpg\n",
            "Image not in ext list /content/dataset/blackholes/Supermassive-Black-Holes-Merging-Illustration.jpg\n",
            "Image not in ext list /content/dataset/planets/Earth-and-Exoplanet-Kepler-138-d-Cross-Sections-scaled.jpg\n",
            "Image not in ext list /content/dataset/planets/gj357_dthm.jpg\n",
            "Image not in ext list /content/dataset/planets/.DS_Store\n",
            "Image not in ext list /content/dataset/planets/5063392410_171f23ef25_b.jpg\n",
            "Image not in ext list /content/dataset/galaxies/310px-NGC_4414_28NASA-med29.jpg\n",
            "Image not in ext list /content/dataset/galaxies/.DS_Store\n",
            "Image not in ext list /content/dataset/galaxies/nasa-s-webb-telescope-reveals-links-between-galaxies-near-and-far-s.jpg\n",
            "Image not in ext list /content/dataset/galaxies/nasa-galaxy-pictures-70kbz3omj6qrevn2.jpg\n",
            "Image not in ext list /content/dataset/nebulas/.DS_Store\n"
          ]
        }
      ]
    },
    {
      "cell_type": "code",
      "source": [
        "train_dir = os.path.join(base_dir, 'train')\n",
        "os.mkdir(train_dir)\n",
        "\n",
        "validation_dir = os.path.join(base_dir, 'validation')\n",
        "os.mkdir(validation_dir)"
      ],
      "metadata": {
        "id": "rdm2YwDiVuEh"
      },
      "execution_count": 26,
      "outputs": []
    },
    {
      "cell_type": "code",
      "execution_count": 27,
      "metadata": {
        "id": "FjJumA3U-YgD"
      },
      "outputs": [],
      "source": [
        "train_galaxies_dir = os.path.join(train_dir, 'galaxies')\n",
        "os.mkdir(train_galaxies_dir)\n",
        "\n",
        "train_black_holes_dir = os.path.join(train_dir, 'blackholes')\n",
        "os.mkdir(train_black_holes_dir)\n",
        "\n",
        "train_stars_dir = os.path.join(train_dir, 'stars')\n",
        "os.mkdir(train_stars_dir)\n",
        "\n",
        "train_nebulas_dir = os.path.join(train_dir, 'nebulas')\n",
        "os.mkdir(train_nebulas_dir)\n",
        "\n",
        "train_planets_dir = os.path.join(train_dir, 'planets')\n",
        "os.mkdir(train_planets_dir)\n",
        "\n",
        "train_asteroids_meteors_dir = os.path.join(train_dir, 'meteors-asteroids')\n",
        "os.mkdir(train_asteroids_meteors_dir)"
      ]
    },
    {
      "cell_type": "code",
      "execution_count": 28,
      "metadata": {
        "id": "XfnWtV8w-Z7F"
      },
      "outputs": [],
      "source": [
        "validation_galaxies_dir = os.path.join(validation_dir, 'galaxies')\n",
        "os.mkdir(validation_galaxies_dir)\n",
        "\n",
        "validation_black_holes_dir = os.path.join(validation_dir, 'blackholes')\n",
        "os.mkdir(validation_black_holes_dir)\n",
        "\n",
        "validation_stars_dir = os.path.join(validation_dir, 'stars')\n",
        "os.mkdir(validation_stars_dir)\n",
        "\n",
        "validation_nebulas_dir = os.path.join(validation_dir, 'nebulas')\n",
        "os.mkdir(validation_nebulas_dir)\n",
        "\n",
        "validation_planets_dir = os.path.join(validation_dir, 'planets')\n",
        "os.mkdir(validation_planets_dir)\n",
        "\n",
        "validation_asteroids_meteors_dir = os.path.join(validation_dir, 'meteors-asteroids')\n",
        "os.mkdir(validation_asteroids_meteors_dir)"
      ]
    },
    {
      "cell_type": "code",
      "execution_count": 29,
      "metadata": {
        "id": "uixpRC0j-brX"
      },
      "outputs": [],
      "source": [
        "def split_data(SOURCE, TRAINING, VALIDATION, SPLIT_SIZE):\n",
        "    files = []\n",
        "    for filename in os.listdir(SOURCE):\n",
        "        file = SOURCE + filename\n",
        "        if os.path.getsize(file) > 0:\n",
        "            files.append(filename)\n",
        "        else :\n",
        "            print(filename + \"is zero length, so ignoring.\")\n",
        "\n",
        "    training_length = int(len(files) * SPLIT_SIZE)\n",
        "    valid_length = int(len(files) - training_length)\n",
        "    shuffled_set = random.sample(files, len(files))\n",
        "    training_set = shuffled_set[0:training_length]\n",
        "    valid_set = shuffled_set[training_length:]\n",
        "\n",
        "    for filename in training_set:\n",
        "        this_file = SOURCE + filename\n",
        "        destination = TRAINING + filename\n",
        "        copyfile(this_file, destination)\n",
        "\n",
        "    for filename in valid_set:\n",
        "        this_file = SOURCE + filename\n",
        "        destination = VALIDATION + filename\n",
        "        copyfile(this_file, destination)"
      ]
    },
    {
      "cell_type": "code",
      "execution_count": 30,
      "metadata": {
        "id": "hphZ-sSI-c_7"
      },
      "outputs": [],
      "source": [
        "STARS_SOURCE_DIR = '/content/dataset/stars/'\n",
        "TRAINING_STARS_DIR = '/content/celestial-bodies-data/train/stars/'\n",
        "VALID_STARS_DIR = '/content/celestial-bodies-data/validation/stars/'\n",
        "\n",
        "PLANETS_SOURCE_DIR = '/content/dataset/planets/'\n",
        "TRAINING_PLANETS_DIR = '/content/celestial-bodies-data/train/planets/'\n",
        "VALID_PLANETS_DIR = '/content/celestial-bodies-data/validation/planets/'\n",
        "\n",
        "NEBULAS_SOURCE_DIR = '/content/dataset/nebulas/'\n",
        "TRAINING_NEBULAS_DIR = '/content/celestial-bodies-data/train/nebulas/'\n",
        "VALID_NEBULAS_DIR = '/content/celestial-bodies-data/validation/nebulas/'\n",
        "\n",
        "GALAXIES_SOURCE_DIR = '/content/dataset/galaxies/'\n",
        "TRAINING_GALAXIES_DIR = '/content/celestial-bodies-data/train/galaxies/'\n",
        "VALID_GALAXIES_DIR = '/content/celestial-bodies-data/validation/galaxies/'\n",
        "\n",
        "BLACKHOLES_SOURCE_DIR = '/content/dataset/blackholes/'\n",
        "TRAINING_BLACKHOLES_DIR = '/content/celestial-bodies-data/train/blackholes/'\n",
        "VALID_BLACKHOLES_DIR = '/content/celestial-bodies-data/validation/blackholes/'\n",
        "\n",
        "ASTEROIDS_METEORS_SOURCE_DIR = '/content/dataset/meteors-asteroids/'\n",
        "TRAINING_ASTEROIDS_METEORS_DIR = '/content/celestial-bodies-data/train/meteors-asteroids/'\n",
        "VALID_ASTEROIDS_METEORS_DIR = '/content/celestial-bodies-data/validation/meteors-asteroids/'"
      ]
    },
    {
      "cell_type": "code",
      "execution_count": 31,
      "metadata": {
        "id": "ZD4V5nF5-96T"
      },
      "outputs": [],
      "source": [
        "import random\n",
        "from shutil import copyfile"
      ]
    },
    {
      "cell_type": "code",
      "execution_count": 32,
      "metadata": {
        "id": "mkn2B8O-_Gbn"
      },
      "outputs": [],
      "source": [
        "split_size = .85"
      ]
    },
    {
      "cell_type": "code",
      "execution_count": 33,
      "metadata": {
        "id": "7YwAg7QN_ID_"
      },
      "outputs": [],
      "source": [
        "split_data(STARS_SOURCE_DIR, TRAINING_STARS_DIR, VALID_STARS_DIR, split_size)\n",
        "split_data(PLANETS_SOURCE_DIR, TRAINING_PLANETS_DIR, VALID_PLANETS_DIR, split_size)\n",
        "split_data(NEBULAS_SOURCE_DIR, TRAINING_NEBULAS_DIR, VALID_NEBULAS_DIR, split_size)\n",
        "split_data(GALAXIES_SOURCE_DIR, TRAINING_GALAXIES_DIR, VALID_GALAXIES_DIR, split_size)\n",
        "split_data(BLACKHOLES_SOURCE_DIR, TRAINING_BLACKHOLES_DIR, VALID_BLACKHOLES_DIR, split_size)\n",
        "split_data(ASTEROIDS_METEORS_SOURCE_DIR, TRAINING_ASTEROIDS_METEORS_DIR, VALID_ASTEROIDS_METEORS_DIR, split_size)"
      ]
    },
    {
      "cell_type": "code",
      "execution_count": 34,
      "metadata": {
        "id": "0eH3kGgX_L2P"
      },
      "outputs": [],
      "source": [
        "import matplotlib.pyplot as plt\n",
        "import seaborn as sns\n",
        "from matplotlib.image import imread\n",
        "import pathlib"
      ]
    },
    {
      "cell_type": "code",
      "execution_count": 35,
      "metadata": {
        "colab": {
          "base_uri": "https://localhost:8080/",
          "height": 545
        },
        "id": "bq-V59-C_jKG",
        "outputId": "46935094-eae5-42ad-e5be-adfb223e67d7"
      },
      "outputs": [
        {
          "output_type": "display_data",
          "data": {
            "text/plain": [
              "<Figure size 900x600 with 1 Axes>"
            ],
            "image/png": "[encoded data removed]"
          },
          "metadata": {}
        }
      ],
      "source": [
        "image_folder = ['stars', 'planets', 'nebulas', 'meteors-asteroids', 'galaxies', 'blackholes']\n",
        "nimgs = {}\n",
        "for i in image_folder:\n",
        "    nimages = len(os.listdir('/content/celestial-bodies-data/train/'+i+'/'))\n",
        "    nimgs[i]=nimages\n",
        "plt.figure(figsize=(9, 6))\n",
        "plt.bar(range(len(nimgs)), list(nimgs.values()), align='center')\n",
        "plt.xticks(range(len(nimgs)), list(nimgs.keys()))\n",
        "plt.title('Distribution of different classes in Training Dataset')\n",
        "plt.show()"
      ]
    },
    {
      "cell_type": "code",
      "execution_count": 36,
      "metadata": {
        "colab": {
          "base_uri": "https://localhost:8080/"
        },
        "id": "z9uhs-P5_qlA",
        "outputId": "2c26e950-65cd-4ac9-931b-3714811a7238"
      },
      "outputs": [
        {
          "output_type": "stream",
          "name": "stdout",
          "text": [
            "Training stars images are: 271\n",
            "Training planets images are: 192\n",
            "Training nebulas images are: 174\n",
            "Training meteors-asteroids images are: 169\n",
            "Training galaxies images are: 264\n",
            "Training blackholes images are: 131\n"
          ]
        }
      ],
      "source": [
        "for i in ['stars', 'planets', 'nebulas', 'meteors-asteroids', 'galaxies', 'blackholes']:\n",
        "    print('Training {} images are: '.format(i)+str(len(os.listdir('/content/celestial-bodies-data/train/'+i+'/'))))"
      ]
    },
    {
      "cell_type": "code",
      "execution_count": 37,
      "metadata": {
        "colab": {
          "base_uri": "https://localhost:8080/",
          "height": 545
        },
        "id": "qiEQTFM_ALBu",
        "outputId": "52ddf9fc-e5b6-4ce4-954e-41ca52c3ce59"
      },
      "outputs": [
        {
          "output_type": "display_data",
          "data": {
            "text/plain": [
              "<Figure size 900x600 with 1 Axes>"
            ],
            "image/png": "[encoded data removed]"
          },
          "metadata": {}
        }
      ],
      "source": [
        "image_folder = ['stars', 'planets', 'nebulas', 'meteors-asteroids', 'galaxies', 'blackholes']\n",
        "nimgs = {}\n",
        "for i in image_folder:\n",
        "    nimages = len(os.listdir('/content/celestial-bodies-data//validation/'+i+'/'))\n",
        "    nimgs[i]=nimages\n",
        "plt.figure(figsize=(9, 6))\n",
        "plt.bar(range(len(nimgs)), list(nimgs.values()), align='center')\n",
        "plt.xticks(range(len(nimgs)), list(nimgs.keys()))\n",
        "plt.title('Distribution of different classes in Validation Dataset')\n",
        "plt.show()"
      ]
    },
    {
      "cell_type": "code",
      "execution_count": 38,
      "metadata": {
        "colab": {
          "base_uri": "https://localhost:8080/"
        },
        "id": "ZFwD59auE40v",
        "outputId": "66cf147a-4671-4e16-88ba-0dca30d22466"
      },
      "outputs": [
        {
          "output_type": "stream",
          "name": "stdout",
          "text": [
            "Validation stars images are: 48\n",
            "Validation planets images are: 35\n",
            "Validation nebulas images are: 31\n",
            "Validation meteors-asteroids images are: 30\n",
            "Validation galaxies images are: 47\n",
            "Validation blackholes images are: 24\n"
          ]
        }
      ],
      "source": [
        "for i in ['stars', 'planets', 'nebulas', 'meteors-asteroids', 'galaxies', 'blackholes']:\n",
        "    print('Validation {} images are: '.format(i)+str(len(os.listdir('/content/celestial-bodies-data/validation/'+i+'/'))))"
      ]
    },
    {
      "cell_type": "code",
      "execution_count": 39,
      "metadata": {
        "id": "0f82a38kFAhh"
      },
      "outputs": [],
      "source": [
        "from tensorflow.keras.optimizers import Adam\n",
        "from tensorflow.keras.preprocessing.image import ImageDataGenerator\n",
        "from tensorflow.keras.layers import Conv2D, MaxPooling2D, Flatten, Dense, Dropout\n",
        "from tensorflow.keras.models import Sequential\n",
        "from tensorflow.keras.callbacks import EarlyStopping, ModelCheckpoint"
      ]
    },
    {
      "cell_type": "code",
      "execution_count": 40,
      "metadata": {
        "id": "rBlvYZ_hFMLb"
      },
      "outputs": [],
      "source": [
        "img_width=256; img_height=256\n",
        "batch_size=16"
      ]
    },
    {
      "cell_type": "code",
      "execution_count": 41,
      "metadata": {
        "colab": {
          "base_uri": "https://localhost:8080/"
        },
        "id": "O9cDT3KSFOcx",
        "outputId": "e13af8fd-d6b4-46b9-dfea-5a60c2670987"
      },
      "outputs": [
        {
          "output_type": "stream",
          "name": "stdout",
          "text": [
            "Found 1197 images belonging to 6 classes.\n"
          ]
        }
      ],
      "source": [
        "TRAINING_DIR = '/content/celestial-bodies-data/train/'\n",
        "\n",
        "train_datagen = ImageDataGenerator(rescale = 1/255.0,\n",
        "                                   rotation_range=30,\n",
        "                                   zoom_range=0.4,\n",
        "                                   horizontal_flip=True)\n",
        "\n",
        "train_generator = train_datagen.flow_from_directory(TRAINING_DIR,\n",
        "                                                    batch_size=batch_size,\n",
        "                                                    class_mode='categorical',\n",
        "                                                    target_size=(img_height, img_width))"
      ]
    },
    {
      "cell_type": "code",
      "execution_count": 42,
      "metadata": {
        "colab": {
          "base_uri": "https://localhost:8080/"
        },
        "id": "GEmmZtGRFWpg",
        "outputId": "ccfc199a-49b0-41bb-94a6-da7d1a866e3b"
      },
      "outputs": [
        {
          "output_type": "stream",
          "name": "stdout",
          "text": [
            "Found 215 images belonging to 6 classes.\n"
          ]
        }
      ],
      "source": [
        "VALIDATION_DIR = '/content/celestial-bodies-data/validation/'\n",
        "\n",
        "validation_datagen = ImageDataGenerator(rescale = 1/255.0)\n",
        "\n",
        "validation_generator = validation_datagen.flow_from_directory(VALIDATION_DIR,\n",
        "                                                              batch_size=batch_size,\n",
        "                                                              class_mode='categorical',\n",
        "                                                              target_size=(img_height, img_width)\n",
        "                                                             )"
      ]
    },
    {
      "cell_type": "code",
      "execution_count": 43,
      "metadata": {
        "id": "ikhnl70uFfb7"
      },
      "outputs": [],
      "source": [
        "callbacks = EarlyStopping(monitor='val_loss', patience=5, verbose=1, mode='auto')\n",
        "# autosave best Model\n",
        "best_model_file = '/content/CNN_aug_best_weights.h5'\n",
        "best_model = ModelCheckpoint(best_model_file, monitor='val_acc', verbose = 1, save_best_only = True)"
      ]
    },
    {
      "cell_type": "code",
      "execution_count": 44,
      "metadata": {
        "colab": {
          "base_uri": "https://localhost:8080/"
        },
        "id": "y8nvWc6_GwwB",
        "outputId": "701e2e06-053e-4c37-c5c8-13bc0cd1119e"
      },
      "outputs": [
        {
          "output_type": "stream",
          "name": "stdout",
          "text": [
            "Model: \"sequential\"\n",
            "_________________________________________________________________\n",
            " Layer (type)                Output Shape              Param #   \n",
            "=================================================================\n",
            " conv2d (Conv2D)             (None, 254, 254, 16)      448       \n",
            "                                                                 \n",
            " max_pooling2d (MaxPooling2  (None, 127, 127, 16)      0         \n",
            " D)                                                              \n",
            "                                                                 \n",
            " conv2d_1 (Conv2D)           (None, 125, 125, 32)      4640      \n",
            "                                                                 \n",
            " max_pooling2d_1 (MaxPoolin  (None, 62, 62, 32)        0         \n",
            " g2D)                                                            \n",
            "                                                                 \n",
            " conv2d_2 (Conv2D)           (None, 60, 60, 64)        18496     \n",
            "                                                                 \n",
            " conv2d_3 (Conv2D)           (None, 58, 58, 64)        36928     \n",
            "                                                                 \n",
            " max_pooling2d_2 (MaxPoolin  (None, 29, 29, 64)        0         \n",
            " g2D)                                                            \n",
            "                                                                 \n",
            " conv2d_4 (Conv2D)           (None, 27, 27, 128)       73856     \n",
            "                                                                 \n",
            " conv2d_5 (Conv2D)           (None, 25, 25, 128)       147584    \n",
            "                                                                 \n",
            " max_pooling2d_3 (MaxPoolin  (None, 12, 12, 128)       0         \n",
            " g2D)                                                            \n",
            "                                                                 \n",
            " conv2d_6 (Conv2D)           (None, 10, 10, 256)       295168    \n",
            "                                                                 \n",
            " conv2d_7 (Conv2D)           (None, 8, 8, 256)         590080    \n",
            "                                                                 \n",
            " conv2d_8 (Conv2D)           (None, 6, 6, 256)         590080    \n",
            "                                                                 \n",
            " max_pooling2d_4 (MaxPoolin  (None, 3, 3, 256)         0         \n",
            " g2D)                                                            \n",
            "                                                                 \n",
            " flatten (Flatten)           (None, 2304)              0         \n",
            "                                                                 \n",
            " dense (Dense)               (None, 512)               1180160   \n",
            "                                                                 \n",
            " dense_1 (Dense)             (None, 512)               262656    \n",
            "                                                                 \n",
            " dense_2 (Dense)             (None, 6)                 3078      \n",
            "                                                                 \n",
            "=================================================================\n",
            "Total params: 3203174 (12.22 MB)\n",
            "Trainable params: 3203174 (12.22 MB)\n",
            "Non-trainable params: 0 (0.00 Byte)\n",
            "_________________________________________________________________\n"
          ]
        }
      ],
      "source": [
        "model = Sequential([\n",
        "    Conv2D(16, (3, 3), activation='relu', input_shape=(img_height, img_width, 3)), MaxPooling2D(2, 2),\n",
        "    Conv2D(32, (3, 3), activation='relu'), MaxPooling2D(2, 2),\n",
        "    Conv2D(64, (3, 3), activation='relu'),\n",
        "    Conv2D(64, (3, 3), activation='relu'),\n",
        "    MaxPooling2D(2, 2),\n",
        "    Conv2D(128, (3, 3), activation='relu'),\n",
        "    Conv2D(128, (3, 3), activation='relu'),\n",
        "    MaxPooling2D(2, 2),\n",
        "    Conv2D(256, (3, 3), activation='relu'),\n",
        "    Conv2D(256, (3, 3), activation='relu'),\n",
        "    Conv2D(256, (3, 3), activation='relu'),\n",
        "    MaxPooling2D(2, 2),\n",
        "    Flatten(),\n",
        "    Dense(512, activation='relu'),\n",
        "    Dense(512, activation='relu'),\n",
        "    Dense(6, activation='softmax')\n",
        "])\n",
        "model.summary()"
      ]
    },
    {
      "cell_type": "code",
      "execution_count": 45,
      "metadata": {
        "id": "BG1w2D6DG6cH"
      },
      "outputs": [],
      "source": [
        "model.compile(optimizer='Adam',\n",
        "              loss='categorical_crossentropy',\n",
        "              metrics =['accuracy'])"
      ]
    },
    {
      "cell_type": "code",
      "execution_count": 47,
      "metadata": {
        "colab": {
          "base_uri": "https://localhost:8080/"
        },
        "id": "M3QYeLZpPwp0",
        "outputId": "5b4b3e2b-4c28-4172-c79b-8b89c5752477"
      },
      "outputs": [
        {
          "output_type": "stream",
          "name": "stdout",
          "text": [
            "Epoch 1/30\n",
            "75/75 [==============================] - ETA: 0s - loss: 1.1827 - accuracy: 0.4553"
          ]
        },
        {
          "output_type": "stream",
          "name": "stderr",
          "text": [
            "WARNING:tensorflow:Can save best model only with val_acc available, skipping.\n"
          ]
        },
        {
          "output_type": "stream",
          "name": "stdout",
          "text": [
            "\b\b\b\b\b\b\b\b\b\b\b\b\b\b\b\b\b\b\b\b\b\b\b\b\b\b\b\b\b\b\b\b\b\b\b\b\b\b\b\b\b\b\b\b\b\b\b\b\b\b\b\b\b\b\b\b\b\b\b\b\b\b\b\b\b\b\b\b\b\b\b\b\b\b\b\b\b\b\b\b\b\b\r75/75 [==============================] - 24s 327ms/step - loss: 1.1827 - accuracy: 0.4553 - val_loss: 1.4025 - val_accuracy: 0.4140\n",
            "Epoch 2/30\n",
            "75/75 [==============================] - ETA: 0s - loss: 1.2108 - accuracy: 0.4645"
          ]
        },
        {
          "output_type": "stream",
          "name": "stderr",
          "text": [
            "WARNING:tensorflow:Can save best model only with val_acc available, skipping.\n"
          ]
        },
        {
          "output_type": "stream",
          "name": "stdout",
          "text": [
            "\b\b\b\b\b\b\b\b\b\b\b\b\b\b\b\b\b\b\b\b\b\b\b\b\b\b\b\b\b\b\b\b\b\b\b\b\b\b\b\b\b\b\b\b\b\b\b\b\b\b\b\b\b\b\b\b\b\b\b\b\b\b\b\b\b\b\b\b\b\b\b\b\b\b\b\b\b\b\b\b\b\b\r75/75 [==============================] - 22s 299ms/step - loss: 1.2108 - accuracy: 0.4645 - val_loss: 1.3502 - val_accuracy: 0.3721\n",
            "Epoch 3/30\n",
            "75/75 [==============================] - ETA: 0s - loss: 1.1763 - accuracy: 0.4662"
          ]
        },
        {
          "output_type": "stream",
          "name": "stderr",
          "text": [
            "WARNING:tensorflow:Can save best model only with val_acc available, skipping.\n"
          ]
        },
        {
          "output_type": "stream",
          "name": "stdout",
          "text": [
            "\b\b\b\b\b\b\b\b\b\b\b\b\b\b\b\b\b\b\b\b\b\b\b\b\b\b\b\b\b\b\b\b\b\b\b\b\b\b\b\b\b\b\b\b\b\b\b\b\b\b\b\b\b\b\b\b\b\b\b\b\b\b\b\b\b\b\b\b\b\b\b\b\b\b\b\b\b\b\b\b\b\b\r75/75 [==============================] - 25s 327ms/step - loss: 1.1763 - accuracy: 0.4662 - val_loss: 1.3330 - val_accuracy: 0.3907\n",
            "Epoch 4/30\n",
            "75/75 [==============================] - ETA: 0s - loss: 1.1767 - accuracy: 0.4845"
          ]
        },
        {
          "output_type": "stream",
          "name": "stderr",
          "text": [
            "WARNING:tensorflow:Can save best model only with val_acc available, skipping.\n"
          ]
        },
        {
          "output_type": "stream",
          "name": "stdout",
          "text": [
            "\b\b\b\b\b\b\b\b\b\b\b\b\b\b\b\b\b\b\b\b\b\b\b\b\b\b\b\b\b\b\b\b\b\b\b\b\b\b\b\b\b\b\b\b\b\b\b\b\b\b\b\b\b\b\b\b\b\b\b\b\b\b\b\b\b\b\b\b\b\b\b\b\b\b\b\b\b\b\b\b\b\b\r75/75 [==============================] - 24s 320ms/step - loss: 1.1767 - accuracy: 0.4845 - val_loss: 1.3954 - val_accuracy: 0.3302\n",
            "Epoch 5/30\n",
            "75/75 [==============================] - ETA: 0s - loss: 1.1841 - accuracy: 0.4695"
          ]
        },
        {
          "output_type": "stream",
          "name": "stderr",
          "text": [
            "WARNING:tensorflow:Can save best model only with val_acc available, skipping.\n"
          ]
        },
        {
          "output_type": "stream",
          "name": "stdout",
          "text": [
            "\b\b\b\b\b\b\b\b\b\b\b\b\b\b\b\b\b\b\b\b\b\b\b\b\b\b\b\b\b\b\b\b\b\b\b\b\b\b\b\b\b\b\b\b\b\b\b\b\b\b\b\b\b\b\b\b\b\b\b\b\b\b\b\b\b\b\b\b\b\b\b\b\b\b\b\b\b\b\b\b\b\b\r75/75 [==============================] - 24s 320ms/step - loss: 1.1841 - accuracy: 0.4695 - val_loss: 1.2899 - val_accuracy: 0.4651\n",
            "Epoch 6/30\n",
            "75/75 [==============================] - ETA: 0s - loss: 1.1214 - accuracy: 0.5113"
          ]
        },
        {
          "output_type": "stream",
          "name": "stderr",
          "text": [
            "WARNING:tensorflow:Can save best model only with val_acc available, skipping.\n"
          ]
        },
        {
          "output_type": "stream",
          "name": "stdout",
          "text": [
            "\b\b\b\b\b\b\b\b\b\b\b\b\b\b\b\b\b\b\b\b\b\b\b\b\b\b\b\b\b\b\b\b\b\b\b\b\b\b\b\b\b\b\b\b\b\b\b\b\b\b\b\b\b\b\b\b\b\b\b\b\b\b\b\b\b\b\b\b\b\b\b\b\b\b\b\b\b\b\b\b\b\b\r75/75 [==============================] - 23s 303ms/step - loss: 1.1214 - accuracy: 0.5113 - val_loss: 1.4046 - val_accuracy: 0.4140\n",
            "Epoch 7/30\n",
            "75/75 [==============================] - ETA: 0s - loss: 1.1730 - accuracy: 0.4845"
          ]
        },
        {
          "output_type": "stream",
          "name": "stderr",
          "text": [
            "WARNING:tensorflow:Can save best model only with val_acc available, skipping.\n"
          ]
        },
        {
          "output_type": "stream",
          "name": "stdout",
          "text": [
            "\b\b\b\b\b\b\b\b\b\b\b\b\b\b\b\b\b\b\b\b\b\b\b\b\b\b\b\b\b\b\b\b\b\b\b\b\b\b\b\b\b\b\b\b\b\b\b\b\b\b\b\b\b\b\b\b\b\b\b\b\b\b\b\b\b\b\b\b\b\b\b\b\b\b\b\b\b\b\b\b\b\b\r75/75 [==============================] - 24s 315ms/step - loss: 1.1730 - accuracy: 0.4845 - val_loss: 1.2847 - val_accuracy: 0.4698\n",
            "Epoch 8/30\n",
            "75/75 [==============================] - ETA: 0s - loss: 1.1639 - accuracy: 0.4820"
          ]
        },
        {
          "output_type": "stream",
          "name": "stderr",
          "text": [
            "WARNING:tensorflow:Can save best model only with val_acc available, skipping.\n"
          ]
        },
        {
          "output_type": "stream",
          "name": "stdout",
          "text": [
            "\b\b\b\b\b\b\b\b\b\b\b\b\b\b\b\b\b\b\b\b\b\b\b\b\b\b\b\b\b\b\b\b\b\b\b\b\b\b\b\b\b\b\b\b\b\b\b\b\b\b\b\b\b\b\b\b\b\b\b\b\b\b\b\b\b\b\b\b\b\b\b\b\b\b\b\b\b\b\b\b\b\b\r75/75 [==============================] - 24s 326ms/step - loss: 1.1639 - accuracy: 0.4820 - val_loss: 1.2598 - val_accuracy: 0.4605\n",
            "Epoch 9/30\n",
            "75/75 [==============================] - ETA: 0s - loss: 1.1043 - accuracy: 0.5138"
          ]
        },
        {
          "output_type": "stream",
          "name": "stderr",
          "text": [
            "WARNING:tensorflow:Can save best model only with val_acc available, skipping.\n"
          ]
        },
        {
          "output_type": "stream",
          "name": "stdout",
          "text": [
            "\b\b\b\b\b\b\b\b\b\b\b\b\b\b\b\b\b\b\b\b\b\b\b\b\b\b\b\b\b\b\b\b\b\b\b\b\b\b\b\b\b\b\b\b\b\b\b\b\b\b\b\b\b\b\b\b\b\b\b\b\b\b\b\b\b\b\b\b\b\b\b\b\b\b\b\b\b\b\b\b\b\b\r75/75 [==============================] - 24s 323ms/step - loss: 1.1043 - accuracy: 0.5138 - val_loss: 1.3010 - val_accuracy: 0.4698\n",
            "Epoch 10/30\n",
            "75/75 [==============================] - ETA: 0s - loss: 1.1296 - accuracy: 0.5163"
          ]
        },
        {
          "output_type": "stream",
          "name": "stderr",
          "text": [
            "WARNING:tensorflow:Can save best model only with val_acc available, skipping.\n"
          ]
        },
        {
          "output_type": "stream",
          "name": "stdout",
          "text": [
            "\b\b\b\b\b\b\b\b\b\b\b\b\b\b\b\b\b\b\b\b\b\b\b\b\b\b\b\b\b\b\b\b\b\b\b\b\b\b\b\b\b\b\b\b\b\b\b\b\b\b\b\b\b\b\b\b\b\b\b\b\b\b\b\b\b\b\b\b\b\b\b\b\b\b\b\b\b\b\b\b\b\b\r75/75 [==============================] - 24s 319ms/step - loss: 1.1296 - accuracy: 0.5163 - val_loss: 1.3244 - val_accuracy: 0.4791\n",
            "Epoch 11/30\n",
            "75/75 [==============================] - ETA: 0s - loss: 1.1097 - accuracy: 0.5088"
          ]
        },
        {
          "output_type": "stream",
          "name": "stderr",
          "text": [
            "WARNING:tensorflow:Can save best model only with val_acc available, skipping.\n"
          ]
        },
        {
          "output_type": "stream",
          "name": "stdout",
          "text": [
            "\b\b\b\b\b\b\b\b\b\b\b\b\b\b\b\b\b\b\b\b\b\b\b\b\b\b\b\b\b\b\b\b\b\b\b\b\b\b\b\b\b\b\b\b\b\b\b\b\b\b\b\b\b\b\b\b\b\b\b\b\b\b\b\b\b\b\b\b\b\b\b\b\b\b\b\b\b\b\b\b\b\b\r75/75 [==============================] - 24s 318ms/step - loss: 1.1097 - accuracy: 0.5088 - val_loss: 1.3032 - val_accuracy: 0.4558\n",
            "Epoch 12/30\n",
            "75/75 [==============================] - ETA: 0s - loss: 1.1274 - accuracy: 0.5163"
          ]
        },
        {
          "output_type": "stream",
          "name": "stderr",
          "text": [
            "WARNING:tensorflow:Can save best model only with val_acc available, skipping.\n"
          ]
        },
        {
          "output_type": "stream",
          "name": "stdout",
          "text": [
            "\b\b\b\b\b\b\b\b\b\b\b\b\b\b\b\b\b\b\b\b\b\b\b\b\b\b\b\b\b\b\b\b\b\b\b\b\b\b\b\b\b\b\b\b\b\b\b\b\b\b\b\b\b\b\b\b\b\b\b\b\b\b\b\b\b\b\b\b\b\b\b\b\b\b\b\b\b\b\b\b\b\b\r75/75 [==============================] - 22s 297ms/step - loss: 1.1274 - accuracy: 0.5163 - val_loss: 1.2590 - val_accuracy: 0.4791\n",
            "Epoch 13/30\n",
            "75/75 [==============================] - ETA: 0s - loss: 1.0725 - accuracy: 0.5706"
          ]
        },
        {
          "output_type": "stream",
          "name": "stderr",
          "text": [
            "WARNING:tensorflow:Can save best model only with val_acc available, skipping.\n"
          ]
        },
        {
          "output_type": "stream",
          "name": "stdout",
          "text": [
            "\b\b\b\b\b\b\b\b\b\b\b\b\b\b\b\b\b\b\b\b\b\b\b\b\b\b\b\b\b\b\b\b\b\b\b\b\b\b\b\b\b\b\b\b\b\b\b\b\b\b\b\b\b\b\b\b\b\b\b\b\b\b\b\b\b\b\b\b\b\b\b\b\b\b\b\b\b\b\b\b\b\b\r75/75 [==============================] - 24s 321ms/step - loss: 1.0725 - accuracy: 0.5706 - val_loss: 1.2502 - val_accuracy: 0.4558\n",
            "Epoch 14/30\n",
            "75/75 [==============================] - ETA: 0s - loss: 1.0471 - accuracy: 0.5689"
          ]
        },
        {
          "output_type": "stream",
          "name": "stderr",
          "text": [
            "WARNING:tensorflow:Can save best model only with val_acc available, skipping.\n"
          ]
        },
        {
          "output_type": "stream",
          "name": "stdout",
          "text": [
            "\b\b\b\b\b\b\b\b\b\b\b\b\b\b\b\b\b\b\b\b\b\b\b\b\b\b\b\b\b\b\b\b\b\b\b\b\b\b\b\b\b\b\b\b\b\b\b\b\b\b\b\b\b\b\b\b\b\b\b\b\b\b\b\b\b\b\b\b\b\b\b\b\b\b\b\b\b\b\b\b\b\b\r75/75 [==============================] - 24s 321ms/step - loss: 1.0471 - accuracy: 0.5689 - val_loss: 1.2416 - val_accuracy: 0.5116\n",
            "Epoch 15/30\n",
            "75/75 [==============================] - ETA: 0s - loss: 1.0612 - accuracy: 0.5689"
          ]
        },
        {
          "output_type": "stream",
          "name": "stderr",
          "text": [
            "WARNING:tensorflow:Can save best model only with val_acc available, skipping.\n"
          ]
        },
        {
          "output_type": "stream",
          "name": "stdout",
          "text": [
            "\b\b\b\b\b\b\b\b\b\b\b\b\b\b\b\b\b\b\b\b\b\b\b\b\b\b\b\b\b\b\b\b\b\b\b\b\b\b\b\b\b\b\b\b\b\b\b\b\b\b\b\b\b\b\b\b\b\b\b\b\b\b\b\b\b\b\b\b\b\b\b\b\b\b\b\b\b\b\b\b\b\b\r75/75 [==============================] - 25s 328ms/step - loss: 1.0612 - accuracy: 0.5689 - val_loss: 1.1993 - val_accuracy: 0.4884\n",
            "Epoch 16/30\n",
            "75/75 [==============================] - ETA: 0s - loss: 1.0306 - accuracy: 0.5881"
          ]
        },
        {
          "output_type": "stream",
          "name": "stderr",
          "text": [
            "WARNING:tensorflow:Can save best model only with val_acc available, skipping.\n"
          ]
        },
        {
          "output_type": "stream",
          "name": "stdout",
          "text": [
            "\b\b\b\b\b\b\b\b\b\b\b\b\b\b\b\b\b\b\b\b\b\b\b\b\b\b\b\b\b\b\b\b\b\b\b\b\b\b\b\b\b\b\b\b\b\b\b\b\b\b\b\b\b\b\b\b\b\b\b\b\b\b\b\b\b\b\b\b\b\b\b\b\b\b\b\b\b\b\b\b\b\b\r75/75 [==============================] - 23s 310ms/step - loss: 1.0306 - accuracy: 0.5881 - val_loss: 1.2593 - val_accuracy: 0.4837\n",
            "Epoch 17/30\n",
            "75/75 [==============================] - ETA: 0s - loss: 0.9992 - accuracy: 0.5823"
          ]
        },
        {
          "output_type": "stream",
          "name": "stderr",
          "text": [
            "WARNING:tensorflow:Can save best model only with val_acc available, skipping.\n"
          ]
        },
        {
          "output_type": "stream",
          "name": "stdout",
          "text": [
            "\b\b\b\b\b\b\b\b\b\b\b\b\b\b\b\b\b\b\b\b\b\b\b\b\b\b\b\b\b\b\b\b\b\b\b\b\b\b\b\b\b\b\b\b\b\b\b\b\b\b\b\b\b\b\b\b\b\b\b\b\b\b\b\b\b\b\b\b\b\b\b\b\b\b\b\b\b\b\b\b\b\b\r75/75 [==============================] - 24s 325ms/step - loss: 0.9992 - accuracy: 0.5823 - val_loss: 1.3149 - val_accuracy: 0.4558\n",
            "Epoch 18/30\n",
            "75/75 [==============================] - ETA: 0s - loss: 1.1027 - accuracy: 0.5313"
          ]
        },
        {
          "output_type": "stream",
          "name": "stderr",
          "text": [
            "WARNING:tensorflow:Can save best model only with val_acc available, skipping.\n"
          ]
        },
        {
          "output_type": "stream",
          "name": "stdout",
          "text": [
            "\b\b\b\b\b\b\b\b\b\b\b\b\b\b\b\b\b\b\b\b\b\b\b\b\b\b\b\b\b\b\b\b\b\b\b\b\b\b\b\b\b\b\b\b\b\b\b\b\b\b\b\b\b\b\b\b\b\b\b\b\b\b\b\b\b\b\b\b\b\b\b\b\b\b\b\b\b\b\b\b\b\b\r75/75 [==============================] - 22s 299ms/step - loss: 1.1027 - accuracy: 0.5313 - val_loss: 1.3419 - val_accuracy: 0.4465\n",
            "Epoch 19/30\n",
            "75/75 [==============================] - ETA: 0s - loss: 1.0276 - accuracy: 0.5748"
          ]
        },
        {
          "output_type": "stream",
          "name": "stderr",
          "text": [
            "WARNING:tensorflow:Can save best model only with val_acc available, skipping.\n"
          ]
        },
        {
          "output_type": "stream",
          "name": "stdout",
          "text": [
            "\b\b\b\b\b\b\b\b\b\b\b\b\b\b\b\b\b\b\b\b\b\b\b\b\b\b\b\b\b\b\b\b\b\b\b\b\b\b\b\b\b\b\b\b\b\b\b\b\b\b\b\b\b\b\b\b\b\b\b\b\b\b\b\b\b\b\b\b\b\b\b\b\b\b\b\b\b\b\b\b\b\b\r75/75 [==============================] - 24s 318ms/step - loss: 1.0276 - accuracy: 0.5748 - val_loss: 1.3444 - val_accuracy: 0.4977\n",
            "Epoch 20/30\n",
            "75/75 [==============================] - ETA: 0s - loss: 0.9896 - accuracy: 0.5940"
          ]
        },
        {
          "output_type": "stream",
          "name": "stderr",
          "text": [
            "WARNING:tensorflow:Can save best model only with val_acc available, skipping.\n"
          ]
        },
        {
          "output_type": "stream",
          "name": "stdout",
          "text": [
            "\b\b\b\b\b\b\b\b\b\b\b\b\b\b\b\b\b\b\b\b\b\b\b\b\b\b\b\b\b\b\b\b\b\b\b\b\b\b\b\b\b\b\b\b\b\b\b\b\b\b\b\b\b\b\b\b\b\b\b\b\b\b\b\b\b\b\b\b\b\b\b\b\b\b\b\b\b\b\b\b\b\b\r75/75 [==============================] - 23s 302ms/step - loss: 0.9896 - accuracy: 0.5940 - val_loss: 1.2148 - val_accuracy: 0.5116\n",
            "Epoch 21/30\n",
            "75/75 [==============================] - ETA: 0s - loss: 0.9728 - accuracy: 0.6241"
          ]
        },
        {
          "output_type": "stream",
          "name": "stderr",
          "text": [
            "WARNING:tensorflow:Can save best model only with val_acc available, skipping.\n"
          ]
        },
        {
          "output_type": "stream",
          "name": "stdout",
          "text": [
            "\b\b\b\b\b\b\b\b\b\b\b\b\b\b\b\b\b\b\b\b\b\b\b\b\b\b\b\b\b\b\b\b\b\b\b\b\b\b\b\b\b\b\b\b\b\b\b\b\b\b\b\b\b\b\b\b\b\b\b\b\b\b\b\b\b\b\b\b\b\b\b\b\b\b\b\b\b\b\b\b\b\b\r75/75 [==============================] - 23s 304ms/step - loss: 0.9728 - accuracy: 0.6241 - val_loss: 1.2080 - val_accuracy: 0.5116\n",
            "Epoch 22/30\n",
            "75/75 [==============================] - ETA: 0s - loss: 0.9805 - accuracy: 0.5890"
          ]
        },
        {
          "output_type": "stream",
          "name": "stderr",
          "text": [
            "WARNING:tensorflow:Can save best model only with val_acc available, skipping.\n"
          ]
        },
        {
          "output_type": "stream",
          "name": "stdout",
          "text": [
            "\b\b\b\b\b\b\b\b\b\b\b\b\b\b\b\b\b\b\b\b\b\b\b\b\b\b\b\b\b\b\b\b\b\b\b\b\b\b\b\b\b\b\b\b\b\b\b\b\b\b\b\b\b\b\b\b\b\b\b\b\b\b\b\b\b\b\b\b\b\b\b\b\b\b\b\b\b\b\b\b\b\b\r75/75 [==============================] - 24s 323ms/step - loss: 0.9805 - accuracy: 0.5890 - val_loss: 1.1641 - val_accuracy: 0.5488\n",
            "Epoch 23/30\n",
            "75/75 [==============================] - ETA: 0s - loss: 0.9610 - accuracy: 0.6132"
          ]
        },
        {
          "output_type": "stream",
          "name": "stderr",
          "text": [
            "WARNING:tensorflow:Can save best model only with val_acc available, skipping.\n"
          ]
        },
        {
          "output_type": "stream",
          "name": "stdout",
          "text": [
            "\b\b\b\b\b\b\b\b\b\b\b\b\b\b\b\b\b\b\b\b\b\b\b\b\b\b\b\b\b\b\b\b\b\b\b\b\b\b\b\b\b\b\b\b\b\b\b\b\b\b\b\b\b\b\b\b\b\b\b\b\b\b\b\b\b\b\b\b\b\b\b\b\b\b\b\b\b\b\b\b\b\b\r75/75 [==============================] - 23s 302ms/step - loss: 0.9610 - accuracy: 0.6132 - val_loss: 1.3446 - val_accuracy: 0.4605\n",
            "Epoch 24/30\n",
            "75/75 [==============================] - ETA: 0s - loss: 0.9853 - accuracy: 0.5840"
          ]
        },
        {
          "output_type": "stream",
          "name": "stderr",
          "text": [
            "WARNING:tensorflow:Can save best model only with val_acc available, skipping.\n"
          ]
        },
        {
          "output_type": "stream",
          "name": "stdout",
          "text": [
            "\b\b\b\b\b\b\b\b\b\b\b\b\b\b\b\b\b\b\b\b\b\b\b\b\b\b\b\b\b\b\b\b\b\b\b\b\b\b\b\b\b\b\b\b\b\b\b\b\b\b\b\b\b\b\b\b\b\b\b\b\b\b\b\b\b\b\b\b\b\b\b\b\b\b\b\b\b\b\b\b\b\b\r75/75 [==============================] - 24s 326ms/step - loss: 0.9853 - accuracy: 0.5840 - val_loss: 1.2212 - val_accuracy: 0.5302\n",
            "Epoch 25/30\n",
            "75/75 [==============================] - ETA: 0s - loss: 0.9523 - accuracy: 0.6048"
          ]
        },
        {
          "output_type": "stream",
          "name": "stderr",
          "text": [
            "WARNING:tensorflow:Can save best model only with val_acc available, skipping.\n"
          ]
        },
        {
          "output_type": "stream",
          "name": "stdout",
          "text": [
            "\b\b\b\b\b\b\b\b\b\b\b\b\b\b\b\b\b\b\b\b\b\b\b\b\b\b\b\b\b\b\b\b\b\b\b\b\b\b\b\b\b\b\b\b\b\b\b\b\b\b\b\b\b\b\b\b\b\b\b\b\b\b\b\b\b\b\b\b\b\b\b\b\b\b\b\b\b\b\b\b\b\b\r75/75 [==============================] - 25s 330ms/step - loss: 0.9523 - accuracy: 0.6048 - val_loss: 1.2466 - val_accuracy: 0.4930\n",
            "Epoch 26/30\n",
            "75/75 [==============================] - ETA: 0s - loss: 0.9365 - accuracy: 0.6190"
          ]
        },
        {
          "output_type": "stream",
          "name": "stderr",
          "text": [
            "WARNING:tensorflow:Can save best model only with val_acc available, skipping.\n"
          ]
        },
        {
          "output_type": "stream",
          "name": "stdout",
          "text": [
            "\b\b\b\b\b\b\b\b\b\b\b\b\b\b\b\b\b\b\b\b\b\b\b\b\b\b\b\b\b\b\b\b\b\b\b\b\b\b\b\b\b\b\b\b\b\b\b\b\b\b\b\b\b\b\b\b\b\b\b\b\b\b\b\b\b\b\b\b\b\b\b\b\b\b\b\b\b\b\b\b\b\b\r75/75 [==============================] - 24s 322ms/step - loss: 0.9365 - accuracy: 0.6190 - val_loss: 1.2737 - val_accuracy: 0.5163\n",
            "Epoch 27/30\n",
            "75/75 [==============================] - ETA: 0s - loss: 0.9258 - accuracy: 0.6433"
          ]
        },
        {
          "output_type": "stream",
          "name": "stderr",
          "text": [
            "WARNING:tensorflow:Can save best model only with val_acc available, skipping.\n"
          ]
        },
        {
          "output_type": "stream",
          "name": "stdout",
          "text": [
            "\b\b\b\b\b\b\b\b\b\b\b\b\b\b\b\b\b\b\b\b\b\b\b\b\b\b\b\b\b\b\b\b\b\b\b\b\b\b\b\b\b\b\b\b\b\b\b\b\b\b\b\b\b\b\b\b\b\b\b\b\b\b\b\b\b\b\b\b\b\b\b\b\b\b\b\b\b\b\b\b\b\b\r75/75 [==============================] - 25s 333ms/step - loss: 0.9258 - accuracy: 0.6433 - val_loss: 1.2676 - val_accuracy: 0.5302\n",
            "Epoch 28/30\n",
            "75/75 [==============================] - ETA: 0s - loss: 0.9604 - accuracy: 0.6057"
          ]
        },
        {
          "output_type": "stream",
          "name": "stderr",
          "text": [
            "WARNING:tensorflow:Can save best model only with val_acc available, skipping.\n"
          ]
        },
        {
          "output_type": "stream",
          "name": "stdout",
          "text": [
            "\b\b\b\b\b\b\b\b\b\b\b\b\b\b\b\b\b\b\b\b\b\b\b\b\b\b\b\b\b\b\b\b\b\b\b\b\b\b\b\b\b\b\b\b\b\b\b\b\b\b\b\b\b\b\b\b\b\b\b\b\b\b\b\b\b\b\b\b\b\b\b\b\b\b\b\b\b\b\b\b\b\b\r75/75 [==============================] - 25s 333ms/step - loss: 0.9604 - accuracy: 0.6057 - val_loss: 1.3547 - val_accuracy: 0.4698\n",
            "Epoch 29/30\n",
            "75/75 [==============================] - ETA: 0s - loss: 0.9349 - accuracy: 0.6257"
          ]
        },
        {
          "output_type": "stream",
          "name": "stderr",
          "text": [
            "WARNING:tensorflow:Can save best model only with val_acc available, skipping.\n"
          ]
        },
        {
          "output_type": "stream",
          "name": "stdout",
          "text": [
            "\b\b\b\b\b\b\b\b\b\b\b\b\b\b\b\b\b\b\b\b\b\b\b\b\b\b\b\b\b\b\b\b\b\b\b\b\b\b\b\b\b\b\b\b\b\b\b\b\b\b\b\b\b\b\b\b\b\b\b\b\b\b\b\b\b\b\b\b\b\b\b\b\b\b\b\b\b\b\b\b\b\b\r75/75 [==============================] - 22s 297ms/step - loss: 0.9349 - accuracy: 0.6257 - val_loss: 1.3165 - val_accuracy: 0.5116\n",
            "Epoch 30/30\n",
            "75/75 [==============================] - ETA: 0s - loss: 0.9322 - accuracy: 0.6291"
          ]
        },
        {
          "output_type": "stream",
          "name": "stderr",
          "text": [
            "WARNING:tensorflow:Can save best model only with val_acc available, skipping.\n"
          ]
        },
        {
          "output_type": "stream",
          "name": "stdout",
          "text": [
            "\b\b\b\b\b\b\b\b\b\b\b\b\b\b\b\b\b\b\b\b\b\b\b\b\b\b\b\b\b\b\b\b\b\b\b\b\b\b\b\b\b\b\b\b\b\b\b\b\b\b\b\b\b\b\b\b\b\b\b\b\b\b\b\b\b\b\b\b\b\b\b\b\b\b\b\b\b\b\b\b\b\b\r75/75 [==============================] - 24s 320ms/step - loss: 0.9322 - accuracy: 0.6291 - val_loss: 1.2446 - val_accuracy: 0.5442\n"
          ]
        }
      ],
      "source": [
        "history = model.fit_generator(train_generator,\n",
        "                              epochs=30,\n",
        "                              verbose=1,\n",
        "                              validation_data=validation_generator,\n",
        "                              callbacks = [best_model]\n",
        "                              )"
      ]
    },
    {
      "cell_type": "code",
      "execution_count": 48,
      "metadata": {
        "id": "VkG2BIitG_ib",
        "colab": {
          "base_uri": "https://localhost:8080/",
          "height": 641
        },
        "outputId": "193ca3c3-4129-44c0-a1a3-81212faf3c69"
      },
      "outputs": [
        {
          "output_type": "display_data",
          "data": {
            "text/plain": [
              "<Figure size 1400x700 with 1 Axes>"
            ],
            "image/png": "[encoded data removed]"
          },
          "metadata": {}
        }
      ],
      "source": [
        "acc=history.history['accuracy']\n",
        "val_acc=history.history['val_accuracy']\n",
        "loss=history.history['loss']\n",
        "val_loss=history.history['val_loss']\n",
        "\n",
        "epochs=range(len(acc))\n",
        "\n",
        "fig = plt.figure(figsize=(14,7))\n",
        "plt.plot(epochs, acc, 'r', label = \"Training Accuracy\")\n",
        "plt.plot(epochs, val_acc, 'b', label = \"Validation Accuracy\")\n",
        "plt.xlabel('Epoch')\n",
        "plt.ylabel('Accuracy')\n",
        "plt.title('Training and validation accuracy')\n",
        "plt.legend(loc = 'lower right')\n",
        "plt.show()"
      ]
    },
    {
      "cell_type": "code",
      "execution_count": 49,
      "metadata": {
        "id": "BME5OL-4kZxS",
        "colab": {
          "base_uri": "https://localhost:8080/",
          "height": 658
        },
        "outputId": "29b0b738-cd5b-4855-e949-4d174b1748ef"
      },
      "outputs": [
        {
          "output_type": "execute_result",
          "data": {
            "text/plain": [
              "Text(0.5, 1.0, 'Training and validation loss')"
            ]
          },
          "metadata": {},
          "execution_count": 49
        },
        {
          "output_type": "display_data",
          "data": {
            "text/plain": [
              "<Figure size 1400x700 with 1 Axes>"
            ],
            "image/png": "[encoded data removed]"
          },
          "metadata": {}
        }
      ],
      "source": [
        "fig2 = plt.figure(figsize=(14,7))\n",
        "plt.plot(epochs, loss, 'r', label=\"Training Loss\")\n",
        "plt.plot(epochs, val_loss, 'b', label=\"Validation Loss\")\n",
        "plt.legend(loc='upper right')\n",
        "plt.xlabel('Epoch')\n",
        "plt.ylabel('Loss')\n",
        "plt.title('Training and validation loss')"
      ]
    },
    {
      "cell_type": "code",
      "execution_count": 50,
      "metadata": {
        "id": "9JHDUB51FsAw"
      },
      "outputs": [],
      "source": [
        "# performance on test data\n",
        "import pandas as pd\n",
        "import numpy as np\n",
        "from keras.preprocessing.image import load_img, img_to_array\n",
        "\n",
        "def preprocess_image(path):\n",
        "    img = load_img(path, target_size = (img_height, img_width))\n",
        "    a = img_to_array(img)\n",
        "    a = np.expand_dims(a, axis = 0)\n",
        "    a /= 255.\n",
        "    return a"
      ]
    },
    {
      "cell_type": "code",
      "execution_count": 53,
      "metadata": {
        "id": "6wElfZGiFy-Y"
      },
      "outputs": [],
      "source": [
        "# Read Test Images Dir and their labels\n",
        "test_images_dir = '/content/test-data/test/'\n",
        "test_df = pd.read_csv('/content/test-data/test.csv')\n",
        "\n",
        "# put them in a list\n",
        "test_dfToList = test_df['image_ID'].tolist()\n",
        "test_ids = [str(item) for item in test_dfToList]\n",
        "\n",
        "test_images = [test_images_dir+item for item in test_ids]\n",
        "test_preprocessed_images = np.vstack([preprocess_image(fn) for fn in test_images])\n",
        "np.save('/content/test_preproc_CNN.npy', test_preprocessed_images)"
      ]
    },
    {
      "cell_type": "code",
      "source": [
        "array = model.predict(test_preprocessed_images, batch_size=1, verbose=1)\n",
        "answer = np.argmax(array, axis=1)"
      ],
      "metadata": {
        "colab": {
          "base_uri": "https://localhost:8080/"
        },
        "id": "VQ24K612IOvc",
        "outputId": "abf3d08d-fa34-4d96-a9e5-5991778f1301"
      },
      "execution_count": 55,
      "outputs": [
        {
          "output_type": "stream",
          "name": "stdout",
          "text": [
            "27/27 [==============================] - 0s 3ms/step\n"
          ]
        }
      ]
    },
    {
      "cell_type": "code",
      "source": [
        "# Mapear los índices a los nombres de las clases\n",
        "class_predictions = [classes[idx] for idx in answer]\n",
        "\n",
        "print(class_predictions)"
      ],
      "metadata": {
        "colab": {
          "base_uri": "https://localhost:8080/"
        },
        "id": "IeW_J3BIItr9",
        "outputId": "fa14ca5a-34fd-493b-d712-d76c3262408a"
      },
      "execution_count": 62,
      "outputs": [
        {
          "output_type": "stream",
          "name": "stdout",
          "text": [
            "['stars', 'galaxies', 'meteors-asteroids', 'stars', 'meteors-asteroids', 'meteors-asteroids', 'meteors-asteroids', 'meteors-asteroids', 'galaxies', 'planets', 'planets', 'blackholes', 'planets', 'planets', 'planets', 'planets', 'planets', 'galaxies', 'galaxies', 'galaxies', 'galaxies', 'galaxies', 'nebulas', 'stars', 'nebulas', 'nebulas', 'nebulas']\n"
          ]
        }
      ]
    },
    {
      "cell_type": "code",
      "execution_count": 59,
      "metadata": {
        "id": "rje5JTj1F2LC"
      },
      "outputs": [],
      "source": [
        "# array = model.predict(test_preprocessed_images, batch_size=1, verbose=1)\n",
        "# answer = np.argmax(array, axis=1)\n",
        "# print(answer)"
      ]
    },
    {
      "cell_type": "code",
      "execution_count": 61,
      "metadata": {
        "id": "QH-M5bifF7G7",
        "colab": {
          "base_uri": "https://localhost:8080/"
        },
        "outputId": "0f2cfdb6-d494-40aa-cf69-a2dccccfc95e"
      },
      "outputs": [
        {
          "output_type": "stream",
          "name": "stdout",
          "text": [
            "0            blackholes\n",
            "1            blackholes\n",
            "2            blackholes\n",
            "3            blackholes\n",
            "4               planets\n",
            "5               planets\n",
            "6               planets\n",
            "7               planets\n",
            "8               nebulas\n",
            "9               nebulas\n",
            "10              nebulas\n",
            "11              nebulas\n",
            "12             galaxies\n",
            "13             galaxies\n",
            "14             galaxies\n",
            "15             galaxies\n",
            "16             galaxies\n",
            "17                stars\n",
            "18                stars\n",
            "19                stars\n",
            "20                stars\n",
            "21                stars\n",
            "22    meteors-asteroids\n",
            "23    meteors-asteroids\n",
            "24    meteors-asteroids\n",
            "25    meteors-asteroids\n",
            "26    meteors-asteroids\n",
            "Name: #labels, dtype: object\n"
          ]
        }
      ],
      "source": [
        "test_df = pd.read_csv('/content/test-data/test.csv')\n",
        "y_true = test_df['#labels']\n",
        "y_pred = array\n",
        "print(y_true)"
      ]
    },
    {
      "cell_type": "code",
      "execution_count": 63,
      "metadata": {
        "id": "hFgUeo8jGN5h"
      },
      "outputs": [],
      "source": [
        "from sklearn.metrics import log_loss\n",
        "loss = log_loss(y_true, y_pred, eps=1e-15, normalize=True, sample_weight=None, labels=None)"
      ]
    },
    {
      "cell_type": "code",
      "execution_count": 80,
      "metadata": {
        "id": "xS1dfUd6GPXD"
      },
      "outputs": [],
      "source": [
        "# from sklearn.metrics import confusion_matrix\n",
        "# conf_mat = confusion_matrix(y_true, answer)\n",
        "# conf_mat"
      ]
    },
    {
      "cell_type": "code",
      "source": [
        "import matplotlib.pyplot as plt\n",
        "from sklearn.metrics import accuracy_score, confusion_matrix\n",
        "import seaborn as sns\n",
        "import numpy as np"
      ],
      "metadata": {
        "id": "7rXKS5d_LDP9"
      },
      "execution_count": 68,
      "outputs": []
    },
    {
      "cell_type": "code",
      "source": [
        "y_true = np.array(['blackholes', 'blackholes', 'blackholes', 'blackholes',\n",
        "                   'planets', 'planets', 'planets', 'planets',\n",
        "                   'nebulas', 'nebulas', 'nebulas', 'nebulas',\n",
        "                   'galaxies', 'galaxies', 'galaxies', 'galaxies', 'galaxies',\n",
        "                   'stars', 'stars', 'stars', 'stars', 'stars',\n",
        "                   'meteors-asteroids', 'meteors-asteroids', 'meteors-asteroids', 'meteors-asteroids', 'meteors-asteroids'])\n",
        "\n",
        "# Etiquetas predichas\n",
        "y_pred = np.array(['stars', 'galaxies', 'meteors-asteroids', 'stars',\n",
        "                   'meteors-asteroids', 'meteors-asteroids', 'meteors-asteroids', 'meteors-asteroids',\n",
        "                   'galaxies', 'planets', 'planets', 'blackholes',\n",
        "                   'planets', 'planets', 'planets', 'planets', 'planets',\n",
        "                   'galaxies', 'galaxies', 'galaxies', 'galaxies', 'galaxies',\n",
        "                   'nebulas', 'stars', 'nebulas', 'nebulas', 'nebulas'])"
      ],
      "metadata": {
        "id": "_9rzhnlsLGCC"
      },
      "execution_count": 72,
      "outputs": []
    },
    {
      "cell_type": "code",
      "source": [
        "# Calcular la precisión\n",
        "accuracy = accuracy_score(y_true, y_pred)\n",
        "print(f'Accuracy: {accuracy:.2f}')"
      ],
      "metadata": {
        "colab": {
          "base_uri": "https://localhost:8080/"
        },
        "id": "L7nIHGDPLGy7",
        "outputId": "d09e490e-7c14-4cb6-97d6-8af0a1c49b0a"
      },
      "execution_count": 73,
      "outputs": [
        {
          "output_type": "stream",
          "name": "stdout",
          "text": [
            "Accuracy: 0.00\n"
          ]
        }
      ]
    },
    {
      "cell_type": "code",
      "source": [
        "# Crear una matriz de confusión para visualizar los resultados\n",
        "conf_matrix = confusion_matrix(y_true, y_pred)"
      ],
      "metadata": {
        "id": "YAMb71TKLK-y"
      },
      "execution_count": 74,
      "outputs": []
    },
    {
      "cell_type": "code",
      "source": [
        "# Crear un mapa de calor con seaborn\n",
        "plt.figure(figsize=(8, 6))\n",
        "sns.heatmap(conf_matrix, annot=True, fmt='d', cmap='Blues', xticklabels=classes, yticklabels=classes)\n",
        "plt.xlabel('Predicted')\n",
        "plt.ylabel('True')\n",
        "plt.title('Confusion Matrix')\n",
        "plt.show()"
      ],
      "metadata": {
        "colab": {
          "base_uri": "https://localhost:8080/",
          "height": 564
        },
        "id": "dw_RAmGwLOPK",
        "outputId": "a04c9555-718b-4edf-e6b4-d174a4cca17b"
      },
      "execution_count": 76,
      "outputs": [
        {
          "output_type": "display_data",
          "data": {
            "text/plain": [
              "<Figure size 800x600 with 2 Axes>"
            ],
            "image/png": "[encoded data removed]"
          },
          "metadata": {}
        }
      ]
    },
    {
      "cell_type": "code",
      "execution_count": 77,
      "metadata": {
        "id": "G_brrzIoGP8A"
      },
      "outputs": [],
      "source": [
        "# train_dir = '/content/celestial-bodies-data/train/'\n",
        "# classes = os.listdir(train_dir)"
      ]
    },
    {
      "cell_type": "code",
      "execution_count": 78,
      "metadata": {
        "id": "sRDkXSuGGSva"
      },
      "outputs": [],
      "source": [
        "# import itertools\n",
        "# def plot_confusion_matrix(cm, classes,\n",
        "#                           normalize=False,\n",
        "#                           title='Confusion matrix',\n",
        "#                           cmap=plt.cm.Reds):\n",
        "#     \"\"\"\n",
        "#     This function prints and plots the confusion matrix.\n",
        "#     Normalization can be applied by setting `normalize=True`.\n",
        "#     \"\"\"\n",
        "#     plt.imshow(cm, interpolation='nearest', cmap=cmap)\n",
        "#     plt.title(title)\n",
        "#     plt.colorbar()\n",
        "#     tick_marks = np.arange(len(classes))\n",
        "#     plt.xticks(tick_marks, classes, rotation=45)\n",
        "#     plt.yticks(tick_marks, classes)\n",
        "\n",
        "#     if normalize:\n",
        "#         cm = cm.astype('float') / cm.sum(axis=1)[:, np.newaxis]\n",
        "#         cm = cm.round(2)\n",
        "#         #print(\"Normalized confusion matrix\")\n",
        "#     else:\n",
        "#         cm=cm\n",
        "#         #print('Confusion matrix, without normalization')\n",
        "\n",
        "#     #print(cm)\n",
        "\n",
        "#     thresh = cm.max() / 2.\n",
        "#     for i, j in itertools.product(range(cm.shape[0]), range(cm.shape[1])):\n",
        "#         plt.text(j, i, cm[i, j],\n",
        "#                  horizontalalignment=\"center\",\n",
        "#                  color=\"white\" if cm[i, j] > thresh else \"black\")\n",
        "\n",
        "#     plt.tight_layout()\n",
        "#     plt.ylabel('True label')\n",
        "#     plt.xlabel('Predicted label')"
      ]
    },
    {
      "cell_type": "code",
      "execution_count": 79,
      "metadata": {
        "id": "FeriDhSYGVCz"
      },
      "outputs": [],
      "source": [
        "# np.set_printoptions(precision=2)\n",
        "\n",
        "# fig1 = plt.figure(figsize=(7,6))\n",
        "# plot_confusion_matrix(conf_mat, classes=classes, title='Confusion matrix, without normalization')\n",
        "# plt.show()"
      ]
    }
  ],
  "metadata": {
    "colab": {
      "provenance": [],
      "gpuType": "T4"
    },
    "kernelspec": {
      "display_name": "Python 3",
      "name": "python3"
    },
    "language_info": {
      "name": "python"
    },
    "accelerator": "GPU"
  },
  "nbformat": 4,
  "nbformat_minor": 0
}